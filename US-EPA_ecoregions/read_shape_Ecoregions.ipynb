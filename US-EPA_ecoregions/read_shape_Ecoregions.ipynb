{
 "cells": [
  {
   "cell_type": "markdown",
   "metadata": {},
   "source": [
    "## Mapping ecoregions and the ecoregional zone to which the stations belong \n",
    "### This notebook will output the ecoregions (province) of the input station list.\n",
    "\n",
    "The ecoregions file are from United States Environmental Protection Agency.<br>\n",
    "You can find data downloading in this URL:\n",
    "https://www.epa.gov/eco-research/ecoregions-north-america <br>\n",
    "(The example folder has the file downloaded already)."
   ]
  },
  {
   "cell_type": "code",
   "execution_count": null,
   "metadata": {},
   "outputs": [],
   "source": [
    "#!pip install fiona dbfread"
   ]
  },
  {
   "cell_type": "code",
   "execution_count": null,
   "metadata": {},
   "outputs": [],
   "source": [
    "import geopandas as gpd\n",
    "import pandas as pd\n",
    "import matplotlib.pyplot as plt\n",
    "import fiona\n",
    "import pygmt"
   ]
  },
  {
   "cell_type": "code",
   "execution_count": null,
   "metadata": {},
   "outputs": [],
   "source": [
    "# Path to the shapefile\n",
    "file_path = \"NA_CEC_Eco_Level3/NA_CEC_Eco_Level3.shp\"\n",
    "\n",
    "# Try to read the shapefile using Fiona\n",
    "try:\n",
    "    with fiona.open(file_path) as src:\n",
    "        # Convert to GeoDataFrame\n",
    "        gdf = gpd.GeoDataFrame.from_features(src, crs=src.crs)\n",
    "        print(\"Shapefile loaded successfully.\")\n",
    "\n",
    "        # Plot the GeoDataFrame\n",
    "        fig, ax = plt.subplots(figsize=(10, 10))\n",
    "        gdf.plot(ax=ax, color=\"lightgreen\", edgecolor=\"black\", label=\"Washington Geology\")\n",
    "        ax.set_title(\"Structural Geology of Washington\")\n",
    "        ax.set_aspect('equal')\n",
    "        ax.legend()\n",
    "        plt.show()\n",
    "except Exception as e:\n",
    "    print(f\"Error loading shapefile: {e}\")\n"
   ]
  },
  {
   "cell_type": "code",
   "execution_count": null,
   "metadata": {},
   "outputs": [],
   "source": [
    "# Check the contents of the GeoDataFrame\n",
    "print(gdf.columns)"
   ]
  },
  {
   "cell_type": "code",
   "execution_count": null,
   "metadata": {},
   "outputs": [],
   "source": [
    "from dbfread import DBF\n",
    "\n",
    "# Path to the .dbf file\n",
    "dbf_path = \"NA_CEC_Eco_Level3/NA_CEC_Eco_Level3.dbf\"\n",
    "\n",
    "# Read the .dbf file into a DataFrame\n",
    "table = DBF(dbf_path)\n",
    "df = pd.DataFrame(iter(table))\n",
    "\n",
    "# Display the contents of the DataFrame\n",
    "df.head()\n"
   ]
  },
  {
   "cell_type": "code",
   "execution_count": null,
   "metadata": {},
   "outputs": [],
   "source": [
    "import geopandas as gpd\n",
    "\n",
    "# Path to the shapefile\n",
    "shp_path = \"NA_CEC_Eco_Level3/NA_CEC_Eco_Level3.shp\"\n",
    "\n",
    "# Load the shapefile\n",
    "gdf = gpd.read_file(shp_path)\n",
    "\n",
    "# Check the contents of the GeoDataFrame\n",
    "print(gdf.head())\n"
   ]
  },
  {
   "cell_type": "code",
   "execution_count": null,
   "metadata": {},
   "outputs": [],
   "source": [
    "# Initialize the plot\n",
    "fig, ax = plt.subplots(figsize=(10, 10))\n",
    "\n",
    "# Plot the merged GeoDataFrame\n",
    "# Replace 'geological_type' with the actual column name you want to visualize\n",
    "gdf.plot(ax=ax, column='NA_L1CODE',  # Change to your actual column name\n",
    "                cmap='Set3',  # Choose a color map\n",
    "                edgecolor='black',  # Outline color for each shape\n",
    "                legend=True)  # Show legend\n",
    "\n",
    "# Add title and labels\n",
    "ax.set_title(\"Ecoregions Level-1 Map of North America\")\n",
    "ax.set_xlabel(\"Longitude\")\n",
    "ax.set_ylabel(\"Latitude\")\n",
    "ax.set_aspect('equal')  # Maintain aspect ratio\n",
    "\n",
    "# Show the plot\n",
    "plt.show()\n"
   ]
  },
  {
   "cell_type": "code",
   "execution_count": null,
   "metadata": {},
   "outputs": [],
   "source": [
    "\n",
    "# Initialize the plot\n",
    "fig, ax = plt.subplots(figsize=(10, 10))\n",
    "\n",
    "# Plot the merged GeoDataFrame\n",
    "# Replace 'geological_type' with the actual column name you want to visualize\n",
    "gdf.plot(ax=ax, column='NA_L2CODE',  # Change to your actual column name\n",
    "                cmap='Set3',  # Choose a color map\n",
    "                edgecolor='black',  # Outline color for each shape\n",
    "                legend=True)  # Show legend\n",
    "\n",
    "# Add title and labels\n",
    "ax.set_title(\"Ecoregions Level-2 Map of North America\")\n",
    "ax.set_xlabel(\"Longitude\")\n",
    "ax.set_ylabel(\"Latitude\")\n",
    "ax.set_aspect('equal')  # Maintain aspect ratio\n",
    "\n",
    "# Show the plot\n",
    "plt.show()\n"
   ]
  },
  {
   "cell_type": "code",
   "execution_count": null,
   "metadata": {},
   "outputs": [],
   "source": [
    "\n",
    "# Initialize the plot\n",
    "fig, ax = plt.subplots(figsize=(10, 10))\n",
    "\n",
    "# Plot the merged GeoDataFrame\n",
    "# Replace 'geological_type' with the actual column name you want to visualize\n",
    "gdf.plot(ax=ax, column='NA_L3CODE',  # Change to your actual column name\n",
    "                cmap='Set3',  # Choose a color map\n",
    "                edgecolor='black',  # Outline color for each shape\n",
    "                legend=True)  # Show legend\n",
    "\n",
    "# Add title and labels\n",
    "ax.set_title(\"Ecoregions Level-3 Map of North America\")\n",
    "ax.set_xlabel(\"Longitude\")\n",
    "ax.set_ylabel(\"Latitude\")\n",
    "ax.set_aspect('equal')  # Maintain aspect ratio\n",
    "\n",
    "# Show the plot\n",
    "plt.show()\n"
   ]
  },
  {
   "cell_type": "code",
   "execution_count": null,
   "metadata": {},
   "outputs": [],
   "source": [
    "gdf[[ 'NA_L3CODE', 'NA_L3NAME', 'geometry']]"
   ]
  },
  {
   "cell_type": "markdown",
   "metadata": {},
   "source": [
    "Convert the coordination to WGS84. "
   ]
  },
  {
   "cell_type": "code",
   "execution_count": null,
   "metadata": {},
   "outputs": [],
   "source": [
    "# Step 2: Convert to EPSG:4326 (longitude/latitude)\n",
    "geology_gdf = gdf.to_crs(epsg=4326)\n",
    "geology_gdf[[ 'NA_L3CODE', 'NA_L3NAME', 'geometry']]"
   ]
  },
  {
   "cell_type": "code",
   "execution_count": null,
   "metadata": {},
   "outputs": [],
   "source": [
    "# Load the station list with latitude and longitude\n",
    "stations_path = \"CI.csv\"  # Replace with actual file path\n",
    "stations_df = pd.read_csv(stations_path)\n",
    "print(stations_df.head())\n",
    "\n",
    "# Convert the station DataFrame to a GeoDataFrame\n",
    "stations_gdf = gpd.GeoDataFrame(\n",
    "    stations_df,\n",
    "    geometry=gpd.points_from_xy(stations_df.stlo, stations_df.stla),\n",
    "    crs=\"EPSG:4326\"  # Assuming coordinates are in WGS 84\n",
    ")\n",
    "print(stations_gdf.head())\n",
    "# Perform spatial join between stations and geological units\n",
    "station_geology_gdf = gpd.sjoin(stations_gdf, geology_gdf, how=\"inner\", predicate=\"within\")\n",
    "\n",
    "# Check results\n",
    "print(station_geology_gdf[['netst', 'NA_L3CODE']])  # Replace with actual columns\n",
    "\n",
    "station_geology_gdf.to_csv('ca_station_ecoregion.csv', index=False)"
   ]
  },
  {
   "cell_type": "code",
   "execution_count": null,
   "metadata": {},
   "outputs": [],
   "source": [
    "# Load CSV data\n",
    "eco_df=pd.read_csv('ca_station_ecoregion.csv')"
   ]
  },
  {
   "cell_type": "code",
   "execution_count": null,
   "metadata": {},
   "outputs": [],
   "source": [
    "from matplotlib.colors import to_hex\n",
    "\n",
    "df = eco_df\n",
    "\n",
    "region=[-122,-114,32,36]\n",
    "proj='M6c'\n",
    "# Initialize the figure\n",
    "fig = pygmt.Figure()\n",
    "pygmt.config(MAP_GRID_PEN = '0.01p,150' , MAP_FRAME_PEN='0.05p', MAP_FRAME_TYPE=\"plain\", MAP_TITLE_OFFSET=\"0.12p\", FONT_TITLE=\"12p\", FONT_ANNOT='4p',  )\n",
    " \n",
    "# Plot the basemap\n",
    "fig.basemap(region=region,  projection=proj, frame=\"a2g1\", )\n",
    "grid = pygmt.datasets.load_earth_relief(resolution=\"30s\", region=region)\n",
    "fig.grdimage(grid='@earth_day_30s', projection=proj, transparency=60, )\n",
    "\n",
    "fig.coast(region=region, projection=proj, frame=\"a2g1\", resolution=\"f\", borders=\"2/0.05p\",\n",
    "            water='lightblue', shorelines='0/0.1p',)\n",
    "# Plot each unique NA_L3KEY as a different color\n",
    "unique_keys = df['NA_L3NAME'].unique()\n",
    "\n",
    "# Get colormap\n",
    "cmap = plt.get_cmap('Set3', len(unique_keys))\n",
    "# Plot each unique NA_L3NAME with corresponding color from the colormap\n",
    "for i, key in enumerate(unique_keys):\n",
    "    subset = df[df['NA_L3NAME'] == key]\n",
    "    \n",
    "    # Check if subset is not empty\n",
    "    if not subset.empty and len(subset) > 0:\n",
    "        color = to_hex(cmap(i)[:3])  # Get the color from the colormap\n",
    "        print(f\"Plotting {key} with color {color}\")\n",
    "        # Plot with the same length for x and y\n",
    "        fig.plot(\n",
    "            x=subset['stlo'],\n",
    "            y=subset['stla'],\n",
    "            style=\"s0.1c\",  # Circle style with size\n",
    "            pen=\"0.1p,black\",\n",
    "            fill=color,  # Use RGB values; color is returned as (R, G, B, A)\n",
    "            label=key\n",
    "        )\n",
    "    else:\n",
    "        print(f\"No data to plot for {key}\")\n",
    "\n",
    "# Add a legend\n",
    "fig.legend(position=\"JMR\", )\n",
    "fig.show(dpi=600)\n"
   ]
  }
 ],
 "metadata": {
  "kernelspec": {
   "display_name": "pygmt",
   "language": "python",
   "name": "python3"
  },
  "language_info": {
   "codemirror_mode": {
    "name": "ipython",
    "version": 3
   },
   "file_extension": ".py",
   "mimetype": "text/x-python",
   "name": "python",
   "nbconvert_exporter": "python",
   "pygments_lexer": "ipython3",
   "version": "3.9.18"
  },
  "orig_nbformat": 4
 },
 "nbformat": 4,
 "nbformat_minor": 2
}
